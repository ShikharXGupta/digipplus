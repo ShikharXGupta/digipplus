{
 "cells": [
  {
   "cell_type": "code",
   "execution_count": 1,
   "metadata": {},
   "outputs": [
    {
     "name": "stderr",
     "output_type": "stream",
     "text": [
      "c:\\python3\\Lib\\site-packages\\tqdm\\auto.py:21: TqdmWarning: IProgress not found. Please update jupyter and ipywidgets. See https://ipywidgets.readthedocs.io/en/stable/user_install.html\n",
      "  from .autonotebook import tqdm as notebook_tqdm\n",
      "c:\\python3\\Lib\\site-packages\\huggingface_hub\\utils\\_deprecation.py:127: FutureWarning: '__init__' (from 'huggingface_hub.inference_api') is deprecated and will be removed from version '1.0'. `InferenceApi` client is deprecated in favor of the more feature-complete `InferenceClient`. Check out this guide to learn how to convert your script to use it: https://huggingface.co/docs/huggingface_hub/guides/inference#legacy-inferenceapi-client.\n",
      "  warnings.warn(warning_message, FutureWarning)\n"
     ]
    },
    {
     "name": "stdout",
     "output_type": "stream",
     "text": [
      "Shikhar Gupta is a student of Bachelor of Technology in Computer Science and Engineering, Vellore Institute of Technology, Vellore, India. Shikhar Gupta is a student of Bachelor of Technology in Computer Science and Engineering, Vellore Institute of Technology, Vellore, India.\n"
     ]
    }
   ],
   "source": [
    "from langchain.chains import LLMChain\n",
    "from langchain.llms import HuggingFaceHub\n",
    "\n",
    "from langchain.prompts import PromptTemplate\n",
    "\n",
    "import os\n",
    "HUGGINGFACEHUB_API_TOKEN=\"YOUR_API_KEY\"     #insert your hugging face api key\n",
    "os.environ[\"HUGGINGFACEHUB_API_TOKEN\"] = HUGGINGFACEHUB_API_TOKEN\n",
    "\n",
    "prompt_template_name  = PromptTemplate(\n",
    "    input_variables= ['name','university' , 'skills'],\n",
    "    template = \"Generate a proposal for {name} studying at {university} with a strong foundation in {skills}. Mention some good soft skills like leadership and presentation skills\"\n",
    ")\n",
    "\n",
    "llm = HuggingFaceHub(repo_id=\"google/flan-t5-xxl\", model_kwargs={\"temperature\":0.7,\"max_new_tokens\":1000, \"max_length\":100000})\n",
    "chain = LLMChain(llm = llm , prompt=prompt_template_name)\n",
    "print(chain.run({ 'name' : \"Shikhar Gupta\" ,  \"university\" : \"vellore institute of technology\" , \"skills\" : \"Proficiency in Python for data analysis and machine learning and worked on different projects\"}))"
   ]
  }
 ],
 "metadata": {
  "kernelspec": {
   "display_name": "Python 3",
   "language": "python",
   "name": "python3"
  },
  "language_info": {
   "codemirror_mode": {
    "name": "ipython",
    "version": 3
   },
   "file_extension": ".py",
   "mimetype": "text/x-python",
   "name": "python",
   "nbconvert_exporter": "python",
   "pygments_lexer": "ipython3",
   "version": "3.11.3"
  }
 },
 "nbformat": 4,
 "nbformat_minor": 2
}
