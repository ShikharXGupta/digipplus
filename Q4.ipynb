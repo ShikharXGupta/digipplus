{
 "cells": [
  {
   "cell_type": "code",
   "execution_count": 2,
   "metadata": {},
   "outputs": [],
   "source": [
    "import warnings\n",
    "warnings.filterwarnings('ignore')"
   ]
  },
  {
   "cell_type": "code",
   "execution_count": 9,
   "metadata": {},
   "outputs": [
    {
     "name": "stdout",
     "output_type": "stream",
     "text": [
      "I am a fourth year B Tech student at Vellore Institute of Technology in the department of Computer Science and Engineering. I have completed my B Tech in Computer Science and Engineering from the prestigious Vellore Institute of Technology. My academics and extra-curricular activities are listed below. I am a strong believer in my ability to contribute to the company. I have always been a strong believer in my ability to contribute to the company.\n"
     ]
    }
   ],
   "source": [
    "from langchain.chains import LLMChain\n",
    "from langchain.llms import HuggingFaceHub\n",
    "\n",
    "from langchain.prompts import PromptTemplate\n",
    "\n",
    "import os\n",
    "HUGGINGFACEHUB_API_TOKEN=\"YOUR_API_KEY\"     #insert your hugging face api key\n",
    "os.environ[\"HUGGINGFACEHUB_API_TOKEN\"] = HUGGINGFACEHUB_API_TOKEN\n",
    "\n",
    "prompt_template_name  = PromptTemplate(\n",
    "    input_variables= ['name','university' , 'skills'],\n",
    "    template = \"Generate a proposal for {name} studying at {university} with a strong foundation in {skills}. Mention some good soft skills like leadership and presentation skills\"\n",
    ")\n",
    "\n",
    "llm = HuggingFaceHub(repo_id=\"google/flan-t5-xxl\", model_kwargs={\"temperature\":0.6,\"max_new_tokens\":1500, \"max_length\":10000})\n",
    "chain = LLMChain(llm = llm , prompt=prompt_template_name)\n",
    "print(chain.run({ 'name' : \"Shikhar Gupta\" ,  \"university\" : \"vellore institute of technology\" , \"skills\" : \"Proficiency in Python for data analysis and machine learning and worked on different projects\"}))"
   ]
  },
  {
   "cell_type": "code",
   "execution_count": null,
   "metadata": {},
   "outputs": [],
   "source": []
  }
 ],
 "metadata": {
  "kernelspec": {
   "display_name": "Python 3",
   "language": "python",
   "name": "python3"
  },
  "language_info": {
   "codemirror_mode": {
    "name": "ipython",
    "version": 3
   },
   "file_extension": ".py",
   "mimetype": "text/x-python",
   "name": "python",
   "nbconvert_exporter": "python",
   "pygments_lexer": "ipython3",
   "version": "3.11.3"
  }
 },
 "nbformat": 4,
 "nbformat_minor": 2
}
